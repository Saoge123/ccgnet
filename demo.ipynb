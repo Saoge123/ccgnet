{
 "cells": [
  {
   "cell_type": "code",
   "execution_count": null,
   "metadata": {},
   "outputs": [],
   "source": [
    "import tensorflow as tf\n",
    "from ccgnet import experiment as exp\n",
    "from ccgnet.finetune import *\n",
    "from ccgnet import layers\n",
    "from ccgnet.layers import *\n",
    "import numpy as np\n",
    "import time\n",
    "from sklearn.metrics import balanced_accuracy_score\n",
    "from ccgnet.Dataset import Dataset, DataLoader\n",
    "from Featurize.Coformer import Coformer\n",
    "from Featurize.Cocrystal import Cocrystal"
   ]
  },
  {
   "cell_type": "code",
   "execution_count": null,
   "metadata": {},
   "outputs": [],
   "source": [
    "class CCGNet(object):\n",
    "    def build_model(self, inputs, is_training, global_step):\n",
    "        V = inputs[0]\n",
    "        A = inputs[1]\n",
    "        labels = inputs[2]\n",
    "        mask = inputs[3]\n",
    "        graph_size = inputs[4]\n",
    "        tags = inputs[5]\n",
    "        global_state = inputs[6]\n",
    "        subgraph_size = inputs[7]\n",
    "        # message passing \n",
    "        V, global_state = CCGBlock(V, A, global_state, subgraph_size, no_filters=64, mask=mask, num_updates=global_step, is_training=is_training)\n",
    "        V, global_state = CCGBlock(V, A, global_state, subgraph_size, no_filters=16, mask=mask, num_updates=global_step, is_training=is_training)\n",
    "        V, global_state = CCGBlock(V, A, global_state, subgraph_size, no_filters=64, mask=mask, num_updates=global_step, is_training=is_training)\n",
    "        V, global_state = CCGBlock(V, A, global_state, subgraph_size, no_filters=16, mask=mask, num_updates=global_step, is_training=is_training)\n",
    "        # readout\n",
    "        V = ReadoutFunction(V, global_state, graph_size, num_head=2, is_training=is_training)\n",
    "        # predict\n",
    "        with tf.compat.v1.variable_scope('Predictive_FC_1') as scope:\n",
    "            V = layers.make_embedding_layer(V, 256)\n",
    "            V = layers.make_bn(V, is_training, mask=None, num_updates=global_step)\n",
    "            V = tf.nn.relu(V)\n",
    "            V = tf.compat.v1.layers.dropout(V, 0.457, training=is_training)\n",
    "        with tf.compat.v1.variable_scope('Predictive_FC_2') as scope:\n",
    "            V = layers.make_embedding_layer(V, 1024)\n",
    "            V = layers.make_bn(V, is_training, mask=None, num_updates=global_step)\n",
    "            V = tf.nn.relu(V)\n",
    "            V = tf.compat.v1.layers.dropout(V, 0.457, training=is_training)\n",
    "        with tf.compat.v1.variable_scope('Predictive_FC_3') as scope:\n",
    "            V = layers.make_embedding_layer(V, 256)\n",
    "            V = layers.make_bn(V, is_training, mask=None, num_updates=global_step)\n",
    "            V = tf.nn.relu(V)\n",
    "            V = tf.compat.v1.layers.dropout(V, 0.457, training=is_training)\n",
    "        out = layers.make_embedding_layer(V, 2, name='final')\n",
    "        return out, labels"
   ]
  },
  {
   "cell_type": "code",
   "execution_count": null,
   "metadata": {
    "scrolled": true
   },
   "outputs": [],
   "source": [
    "data1 = Dataset('data/CC_Table/ECC&CC_Table.tab', mol_blocks_dir='data/Mol_Blocks.dir')\n",
    "data1.make_graph_dataset(Desc=1, A_type='OnlyCovalentBond', hbond=0, pipi_stack=0, contact=0, make_dataframe=True)"
   ]
  },
  {
   "cell_type": "code",
   "execution_count": null,
   "metadata": {
    "scrolled": true
   },
   "outputs": [],
   "source": [
    "data2 = Dataset('data/CC_Table/CC_Table-DataAug.tab', mol_blocks_dir='data/Mol_Blocks.dir')\n",
    "data2.make_graph_dataset(Desc=1, A_type='OnlyCovalentBond', hbond=0, pipi_stack=0, contact=0, make_dataframe=True)"
   ]
  },
  {
   "cell_type": "code",
   "execution_count": null,
   "metadata": {},
   "outputs": [],
   "source": [
    "fold_10 = eval(open('data/Fold_10.dir').read())\n",
    "nico = eval(open('data/Test/Test_Samples/Nicotinamide_Test.list').read())\n",
    "carb = eval(open('data/Test/Test_Samples/Carbamazepine_Test.list').read())\n",
    "indo = eval(open('data/Test/Test_Samples/Indomethacin_Test.list').read())\n",
    "para = eval(open('data/Test/Test_Samples/Paracetamol_Test.list').read())\n",
    "pyre = eval(open('data/Test/Test_Samples/Pyrene_Test.list').read())\n",
    "test = list(set(nico + carb + indo + para + pyre))\n",
    "apis = list(set(nico + indo + para + carb))\n",
    "cl20 = eval(open('data/Test/Test/Test_Samples/CL-20_Test.list').read())\n",
    "tnt = eval(open('data/Test/Test_Samples/TNT_Test.list').read())"
   ]
  },
  {
   "cell_type": "code",
   "execution_count": null,
   "metadata": {
    "scrolled": true
   },
   "outputs": [],
   "source": [
    "start = time.time()\n",
    "snapshot_path = './snapshot/'\n",
    "model_name = 'CCGNet'\n",
    "dataset_name = 'CC_Dataset'\n",
    "for fold in ['fold-{}'.format(i) for i in range(10)]:\n",
    "    print('\\n################ {} ################'.format(fold))\n",
    "    train_data1, valid_data1, test_data1 = data1.split(train_samples=fold_10[fold]['train'], valid_samples=fold_10[fold]['valid'], with_test=True, test_samples=fold_10['test'])\n",
    "    train_data2, valid_data2 = data2.split(train_samples=fold_10[fold]['train'], valid_samples=fold_10[fold]['valid'], with_test=False)\n",
    "    train_data = []\n",
    "    for ix, i in enumerate(train_data1):\n",
    "        train_data.append(np.concatenate([i, train_data2[ix]]))\n",
    "    del train_data2\n",
    "    del train_data1\n",
    "    tf.reset_default_graph()\n",
    "    model = CCGNet()\n",
    "    model = exp.Model(model, train_data, valid_data1, with_test=True, test_data=test_data1, snapshot_path=snapshot_path, use_subgraph=True,\n",
    "                      model_name=model_name, dataset_name=dataset_name+'/time_{}'.format(fold[-1]))\n",
    "    history = model.fit(num_epoch=100, save_info=True, save_att=True, silence=0, train_batch_size=128,\n",
    "                        metric='acc')\n",
    "end = time.time()\n",
    "time_gap = end-start\n",
    "h = time_gap//3600\n",
    "h_m = time_gap%3600\n",
    "m = h_m//60\n",
    "s = h_m%60\n",
    "print('{}h {}m {}s'.format(int(h),int(m),round(s,2)))"
   ]
  },
  {
   "cell_type": "code",
   "execution_count": null,
   "metadata": {},
   "outputs": [],
   "source": [
    "from Featurize.MetricsReport import model_metrics_report\n",
    "\n",
    "model_metrics_report('{}/{}/'.format(snapshot_path, model_name), tofixed=2)"
   ]
  },
  {
   "cell_type": "code",
   "execution_count": null,
   "metadata": {},
   "outputs": [],
   "source": [
    "from ccgnet.parselog import ParseTestLog, ParseTestLogEnsemble\n",
    "import glob\n",
    "\n",
    "val_list = glob.glob('{}/{}/{}/*/*val*'.format(snapshot_path, model_name, dataset_name))\n",
    "l = []\n",
    "for i in val_list:\n",
    "    l.append(ParseTestLog(i))"
   ]
  },
  {
   "cell_type": "code",
   "execution_count": null,
   "metadata": {},
   "outputs": [],
   "source": [
    "ens = ParseTestLogEnsemble(l)\n",
    "print('####### Mean ########')\n",
    "ens.Reports\n",
    "print('####### Bagging ########')\n",
    "ens_bagging = ens.Bagging"
   ]
  }
 ],
 "metadata": {
  "kernelspec": {
   "display_name": "Python(CCDC)",
   "language": "python",
   "name": "ccdc"
  },
  "language_info": {
   "codemirror_mode": {
    "name": "ipython",
    "version": 3
   },
   "file_extension": ".py",
   "mimetype": "text/x-python",
   "name": "python",
   "nbconvert_exporter": "python",
   "pygments_lexer": "ipython3",
   "version": "3.7.6"
  }
 },
 "nbformat": 4,
 "nbformat_minor": 4
}
